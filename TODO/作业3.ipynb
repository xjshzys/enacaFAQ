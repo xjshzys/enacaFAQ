{
 "cells": [
  {
   "cell_type": "markdown",
   "metadata": {},
   "source": [
    "#### 有如下变量hong和ming，列表各元素分别表示两人的体检信息，列表元素依次表示身高(cm)、体重(kg)、腰围(cm)、臀围(cm)、性别），请完成以下操作"
   ]
  },
  {
   "cell_type": "code",
   "execution_count": null,
   "metadata": {
    "collapsed": true
   },
   "outputs": [],
   "source": [
    "hong = [165, 50, 80, 100, '女']\n",
    "ming = [180, 90, 130, 130, '男']"
   ]
  },
  {
   "cell_type": "markdown",
   "metadata": {},
   "source": [
    "##### 1、BMI和WHR是描述人体肥胖情况的两个指标\n",
    "##### BMI=体重(kg) /身高(m)的平方\n",
    "##### WHR=腰围/臀围\n",
    "##### 请从列表中提取元素，分别计算两人的BMI和WHR\n",
    "##### Tips：访问元素进行数值计算"
   ]
  },
  {
   "cell_type": "code",
   "execution_count": null,
   "metadata": {
    "collapsed": true
   },
   "outputs": [],
   "source": []
  },
  {
   "cell_type": "markdown",
   "metadata": {},
   "source": [
    "##### 2、将二人的BMI和WHR指标值，作为新增元素加入初始列表末尾"
   ]
  },
  {
   "cell_type": "code",
   "execution_count": null,
   "metadata": {
    "collapsed": true
   },
   "outputs": [],
   "source": []
  },
  {
   "cell_type": "markdown",
   "metadata": {},
   "source": [
    "##### 3、请根据以下标准判断两人是否属于“肥胖”，分别生成布尔值，并增加到列表的第一位元素\n",
    "#### 成人的BMI数值：过轻：低于18.5，正常：18.5-23.9，超重：24-27.9，肥胖：大于28\n",
    "#### 男性的WHR：向心性肥胖：≥0.85\n",
    "#### 女性的WHR：向心性肥胖：≥0.8\n",
    "##### Tips：BMI和WHR对肥胖的定义中，满足任意一个即为判断为肥胖"
   ]
  },
  {
   "cell_type": "code",
   "execution_count": null,
   "metadata": {
    "collapsed": true
   },
   "outputs": [],
   "source": []
  },
  {
   "cell_type": "markdown",
   "metadata": {},
   "source": [
    "##### 4、得知肥胖情况后，两人决定减肥，准备晚餐只吃水果。以下是列出的水果清单，请生成一个列表进行记录，并对水果进行降序排列\n",
    "#### banana，apple，pear，orange，peach，cherry，durian"
   ]
  },
  {
   "cell_type": "code",
   "execution_count": null,
   "metadata": {
    "collapsed": true
   },
   "outputs": [],
   "source": []
  },
  {
   "cell_type": "markdown",
   "metadata": {},
   "source": [
    "##### 5、小红想在今天晚上吃序数为奇数的水果，那么她能否吃到榴莲呢？\n",
    "##### Tips：切片操作结合成员资格进行判断"
   ]
  },
  {
   "cell_type": "code",
   "execution_count": null,
   "metadata": {
    "collapsed": true
   },
   "outputs": [],
   "source": []
  }
 ],
 "metadata": {
  "kernelspec": {
   "display_name": "Python 3",
   "language": "python",
   "name": "python3"
  },
  "language_info": {
   "codemirror_mode": {
    "name": "ipython",
    "version": 3
   },
   "file_extension": ".py",
   "mimetype": "text/x-python",
   "name": "python",
   "nbconvert_exporter": "python",
   "pygments_lexer": "ipython3",
   "version": "3.6.3"
  }
 },
 "nbformat": 4,
 "nbformat_minor": 2
}
