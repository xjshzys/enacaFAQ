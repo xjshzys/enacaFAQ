{
 "cells": [
  {
   "cell_type": "markdown",
   "metadata": {},
   "source": [
    "#### 1、有如下变量test，请按照要求实现每个功能：\n",
    "##### a、移除test变量对应值的两边的空格，并输出移除后的内容\n",
    "##### b、将test变量对应值变成大写，并输出结果\n",
    "##### c、请输出test变量对应值的前三个字符\n",
    "##### d、请从test变量输出'WORLD'\n",
    "##### e、请去除test变量对应值的感叹号!\n",
    "##### f、将test变量对应值根据\"MY\"分割"
   ]
  },
  {
   "cell_type": "code",
   "execution_count": null,
   "metadata": {
    "collapsed": true
   },
   "outputs": [],
   "source": [
    "test = '  Hello my world! '"
   ]
  },
  {
   "cell_type": "code",
   "execution_count": null,
   "metadata": {
    "collapsed": true
   },
   "outputs": [],
   "source": []
  },
  {
   "cell_type": "markdown",
   "metadata": {},
   "source": [
    "#### 2、有如下a和b两个变量，请问a&b的结果为（True/False）？"
   ]
  },
  {
   "cell_type": "code",
   "execution_count": null,
   "metadata": {
    "collapsed": true
   },
   "outputs": [],
   "source": [
    "a = 4<=5\n",
    "b = (1<2) & ('a'=='A')"
   ]
  },
  {
   "cell_type": "code",
   "execution_count": null,
   "metadata": {
    "collapsed": true
   },
   "outputs": [],
   "source": []
  },
  {
   "cell_type": "markdown",
   "metadata": {},
   "source": [
    "#### 3、实现一个整数加法计算器:\n",
    "##### ① 可考虑通过两个input()输入需要进行计算的整数；\n",
    "##### ② 通过int()将字符串转换为整数进行加法计算"
   ]
  },
  {
   "cell_type": "code",
   "execution_count": null,
   "metadata": {
    "collapsed": true
   },
   "outputs": [],
   "source": []
  },
  {
   "cell_type": "markdown",
   "metadata": {},
   "source": [
    "#### （选做）请将字符串'abcdefg'输出成为'GFEDCBA'\n",
    "##### Tips：反转输出考虑步长设置为-1"
   ]
  },
  {
   "cell_type": "code",
   "execution_count": null,
   "metadata": {
    "collapsed": true
   },
   "outputs": [],
   "source": []
  }
 ],
 "metadata": {
  "kernelspec": {
   "display_name": "Python 3",
   "language": "python",
   "name": "python3"
  },
  "language_info": {
   "codemirror_mode": {
    "name": "ipython",
    "version": 3
   },
   "file_extension": ".py",
   "mimetype": "text/x-python",
   "name": "python",
   "nbconvert_exporter": "python",
   "pygments_lexer": "ipython3",
   "version": "3.6.3"
  }
 },
 "nbformat": 4,
 "nbformat_minor": 2
}
