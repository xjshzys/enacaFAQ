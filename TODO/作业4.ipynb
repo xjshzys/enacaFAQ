{
 "cells": [
  {
   "cell_type": "markdown",
   "metadata": {},
   "source": [
    "#### 1、请实现下列字典操作\n",
    "#### ① 创建一个字典pc，包含如下信息：\n",
    "##### 品牌：DELL，型号：成就5000，价格：6499；\n",
    "#### ② 向字典中添加条目“颜色”和对应值\"灰\"；\n",
    "#### ③ 删除属性“型号”；\n",
    "#### ④ 修改属性“价格”为6699"
   ]
  },
  {
   "cell_type": "code",
   "execution_count": null,
   "metadata": {
    "collapsed": true
   },
   "outputs": [],
   "source": []
  },
  {
   "cell_type": "markdown",
   "metadata": {},
   "source": [
    "#### 2、请实现下列功能：\n",
    "##### 预先设定一个用户名和密码，然后从键盘获取用户名、密码，如果用户名和密码都正确，那么就显示“欢迎登陆”，否则提示“密码或者用户名错误”\n",
    "##### Tips：① 预先设定用户名和密码：可创建两个变量进行赋值；② 从键盘获取用户名和密码：使用input()；③ 进行条件判断"
   ]
  },
  {
   "cell_type": "code",
   "execution_count": null,
   "metadata": {
    "collapsed": true
   },
   "outputs": [],
   "source": []
  }
 ],
 "metadata": {
  "kernelspec": {
   "display_name": "Python 3",
   "language": "python",
   "name": "python3"
  },
  "language_info": {
   "codemirror_mode": {
    "name": "ipython",
    "version": 3
   },
   "file_extension": ".py",
   "mimetype": "text/x-python",
   "name": "python",
   "nbconvert_exporter": "python",
   "pygments_lexer": "ipython3",
   "version": "3.7.3"
  }
 },
 "nbformat": 4,
 "nbformat_minor": 2
}
